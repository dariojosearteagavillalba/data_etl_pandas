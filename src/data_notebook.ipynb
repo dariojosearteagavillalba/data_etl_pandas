{
 "cells": [
  {
   "cell_type": "code",
   "execution_count": 126,
   "metadata": {},
   "outputs": [],
   "source": [
    "%%capture\n",
    "import pandas as pd\n",
    "import requests as rq\n",
    "import pandas_profiling\n",
    "import calendar as cl\n",
    "import os\n",
    "import time\n",
    "import json\n",
    "import re\n",
    "import numpy as np\n",
    "import glob"
   ]
  },
  {
   "cell_type": "code",
   "execution_count": 127,
   "metadata": {},
   "outputs": [],
   "source": [
    "#generamos el rango de fechas para realizar la busqueda\n",
    "\n",
    "Dates = pd.date_range(start='2022-12-01', end='2022-12-31', freq='D', normalize=False)\n",
    "\n",
    "Dates_Series = Dates.to_series().dt.strftime('%Y-%m-%d')"
   ]
  },
  {
   "cell_type": "code",
   "execution_count": 124,
   "metadata": {},
   "outputs": [],
   "source": [
    "try:\n",
    "  os.makedirs(\"json\\Raw_period_date=2022-12\")\n",
    "except:\n",
    "  pass\n",
    "\n",
    "try:\n",
    "  os.makedirs(\"profiling\")\n",
    "except:\n",
    "  pass\n",
    "\n",
    "try:\n",
    "  os.makedirs(\"json\\Raw_parquet_period=2022-12\")\n",
    "except:\n",
    "  pass\n",
    "\n",
    "try:\n",
    "  os.makedirs(\"json\\master_parquet_period=2022-12\")\n",
    "except:\n",
    "  pass"
   ]
  },
  {
   "cell_type": "code",
   "execution_count": 125,
   "metadata": {},
   "outputs": [],
   "source": [
    "##data hanlder via api \n",
    "for date_find in Dates_Series :\n",
    "  # print(date_find)\n",
    "\n",
    "\n",
    "  response = rq.get(f\"http://api.tvmaze.com/schedule/web?date={date_find}\")\n",
    "\n",
    "  \n",
    "  # valida el status\n",
    "  if response.status_code == 200:\n",
    "      # The request was successful, so parse the response data\n",
    "      data = json.loads(response.content)\n",
    "      # Save the data to a JSON file\n",
    "      with open(f\"json/Raw_period_date=2022-12/{Dates_Series[date_find]}.json\", \"w\") as f:\n",
    "          json.dump(data, f, indent=4)\n",
    "          f.close()\n",
    "          time.sleep(0.10)\n",
    "  else:\n",
    "      # The request failed, so print the error message\n",
    "      print(response.status_code)\n",
    "      print(response.content)\n"
   ]
  }
 ],
 "metadata": {
  "kernelspec": {
   "display_name": "Python 3 (ipykernel)",
   "language": "python",
   "name": "python3"
  },
  "orig_nbformat": 4
 },
 "nbformat": 4,
 "nbformat_minor": 2
}
