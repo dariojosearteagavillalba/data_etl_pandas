{
 "cells": [
  {
   "cell_type": "code",
   "execution_count": 120,
   "metadata": {},
   "outputs": [],
   "source": [
    "%%capture\n",
    "import pandas as pd\n",
    "import requests as rq\n",
    "import pandas_profiling\n",
    "import calendar as cl\n",
    "import os\n",
    "import time\n",
    "import json\n",
    "import re\n",
    "import numpy as np\n",
    "import glob"
   ]
  },
  {
   "cell_type": "code",
   "execution_count": 121,
   "metadata": {},
   "outputs": [],
   "source": [
    "#generamos el rango de fechas para realizar la busqueda\n",
    "\n",
    "Dates = pd.date_range(start='2022-12-01', end='2022-12-31', freq='D', normalize=False)\n",
    "\n",
    "Dates_Series = Dates.to_series().dt.strftime('%Y-%m-%d')"
   ]
  },
  {
   "cell_type": "code",
   "execution_count": 123,
   "metadata": {},
   "outputs": [],
   "source": [
    "try:\n",
    "  os.makedirs(\"json\\ raw_period_date=2022-12\")\n",
    "except:\n",
    "  pass\n",
    "\n",
    "try:\n",
    "  os.makedirs(\"profiling\")\n",
    "except:\n",
    "  pass\n",
    "\n",
    "try:\n",
    "  os.makedirs(\"json\\ raw_parquet_period=2022-12\")\n",
    "except:\n",
    "  pass\n",
    "\n",
    "try:\n",
    "  os.makedirs(\"json\\master_parquet_period=2022-12\")\n",
    "except:\n",
    "  pass"
   ]
  }
 ],
 "metadata": {
  "kernelspec": {
   "display_name": "Python 3 (ipykernel)",
   "language": "python",
   "name": "python3"
  },
  "language_info": {
   "codemirror_mode": {
    "name": "ipython",
    "version": 3
   },
   "file_extension": ".py",
   "mimetype": "text/x-python",
   "name": "python",
   "nbconvert_exporter": "python",
   "pygments_lexer": "ipython3",
   "version": "3.10.5"
  },
  "orig_nbformat": 4
 },
 "nbformat": 4,
 "nbformat_minor": 2
}
